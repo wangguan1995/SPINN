{
  "cells": [
    {
      "cell_type": "code",
      "execution_count": null,
      "metadata": {},
      "outputs": [],
      "source": [
        "# test jax\n",
        "import jax\n",
        "from jax.lib import xla_bridge\n",
        "print(f\"JAX version: {jax.__version__}\")\n",
        "print(f\"JAX avaliable device: {jax.devices()}\")\n",
        "print(f\"JAX avaliable backend: {xla_bridge.get_backend().platform}\")"
      ]
    },
    {
      "cell_type": "code",
      "execution_count": 2,
      "metadata": {
        "colab": {
          "base_uri": "https://localhost:8080/"
        },
        "id": "vvONKO1Avm8E",
        "outputId": "4832a224-83a5-4e4b-9671-62686e017bee"
      },
      "outputs": [
        {
          "name": "stdout",
          "output_type": "stream",
          "text": [
            "CUDA backend failed to initialize: INTERNAL: no supported devices found for platform CUDA (Set TF_CPP_MIN_LOG_LEVEL=0 and rerun for more info.)\n",
            "loading ic mesh :  ./data/Box_X=3D_0.036/DNS_Box_X=3D_0.036_400000.vtu\n",
            "loading ic mesh :  ./data/Box_X=3D_0.036/DNS_Box_X=3D_0.036_400000.vtu\n",
            "compiling...\n",
            "  2%|▊                                      | 995/50000 [00:37<22:52, 35.71it/s]Epoch: 1000/50000 --> total loss: 317.04968262, error: 0.93175167, best error 0.93175167\n",
            "  4%|█▌                                    | 1996/50000 [01:07<23:53, 33.49it/s]Epoch: 2000/50000 --> total loss: 297.79293823, error: 0.91799307, best error 0.91799307\n",
            "  6%|██▎                                   | 2998/50000 [01:36<22:47, 34.37it/s]Epoch: 3000/50000 --> total loss: 135.72492981, error: 0.63974094, best error 0.67009223\n",
            "  8%|███                                   | 3998/50000 [02:03<20:26, 37.49it/s]Epoch: 4000/50000 --> total loss: 77.60216522, error: 0.56288922, best error 0.53842753\n",
            " 10%|███▊                                  | 4999/50000 [02:31<22:32, 33.26it/s]Epoch: 5000/50000 --> total loss: 57.83506775, error: 0.51147258, best error 0.53056943\n",
            " 12%|████▌                                 | 5998/50000 [02:58<20:09, 36.38it/s]Epoch: 6000/50000 --> total loss: 47.46688461, error: 0.50494772, best error 0.51593095\n",
            " 14%|█████▎                                | 6998/50000 [03:27<21:37, 33.13it/s]Epoch: 7000/50000 --> total loss: 40.72479248, error: 0.51840258, best error 0.51368302\n",
            " 16%|██████                                | 7996/50000 [03:55<21:03, 33.25it/s]Epoch: 8000/50000 --> total loss: 35.15713501, error: 0.50391066, best error 0.50442976\n",
            " 17%|██████▍                               | 8399/50000 [04:08<20:47, 33.35it/s]^C\n",
            " 17%|██████▍                               | 8399/50000 [04:08<20:32, 33.74it/s]\n",
            "Traceback (most recent call last):\n",
            "  File \"/workspace/SPINN/navier_stokes4d.py\", line 201, in <module>\n",
            "    loss, gradient = apply_model_spinn(apply_fn, params, args.nu, args.lbda_c, args.lbda_ic, *train_data)\n",
            "KeyboardInterrupt\n"
          ]
        }
      ],
      "source": [
        "! rm -rf *0.npy\n",
        "! export CUDA_VISIBLE_DEVICES=3\n",
        "! XLA_PYTHON_CLIENT_PREALLOCATE=false CUDA_VISIBLE_DEVICES=0 TF_CPP_MIN_LOG_LEVEL=0 python navier_stokes4d.py \\\n",
        "--model=spinn --equation=navier_stokes4d --nc=32 \\\n",
        "--nc_test=20 --seed=111 --lr=1e-3 --epochs=10000 \\\n",
        "--mlp=modified_mlp --n_layers=5 --features=64 \\\n",
        "--r=128 --out_dim=3 --lbda_c=100 \\\n",
        "--lbda_ic=10 --step_idx=0 --log_iter=1000 --plot_iter=5000"
      ]
    }
  ],
  "metadata": {
    "accelerator": "GPU",
    "colab": {
      "gpuType": "T4",
      "provenance": []
    },
    "kernelspec": {
      "display_name": "Python 3",
      "name": "python3"
    },
    "language_info": {
      "codemirror_mode": {
        "name": "ipython",
        "version": 3
      },
      "file_extension": ".py",
      "mimetype": "text/x-python",
      "name": "python",
      "nbconvert_exporter": "python",
      "pygments_lexer": "ipython3",
      "version": "3.10.13"
    }
  },
  "nbformat": 4,
  "nbformat_minor": 0
}
