{
  "cells": [
    {
      "cell_type": "code",
      "execution_count": null,
      "metadata": {},
      "outputs": [],
      "source": [
        "# test jax\n",
        "import jax\n",
        "from jax.lib import xla_bridge\n",
        "print(f\"JAX version: {jax.__version__}\")\n",
        "print(f\"JAX avaliable device: {jax.devices()}\")\n",
        "print(f\"JAX avaliable backend: {xla_bridge.get_backend().platform}\")"
      ]
    },
    {
      "cell_type": "code",
      "execution_count": null,
      "metadata": {},
      "outputs": [],
      "source": [
        "! bash /workspace/SPINN/scripts/navier_stokes3d.sh"
      ]
    },
    {
      "cell_type": "code",
      "execution_count": 2,
      "metadata": {
        "colab": {
          "base_uri": "https://localhost:8080/"
        },
        "id": "vvONKO1Avm8E",
        "outputId": "4832a224-83a5-4e4b-9671-62686e017bee"
      },
      "outputs": [
        {
          "name": "stdout",
          "output_type": "stream",
          "text": [
            "2024-02-27 12:56:18.924552: I external/xla/xla/stream_executor/cuda/cuda_dnn.cc:469] Loaded cuDNN version 8906\n",
            "loading ic mesh :  ./data/Box_X=3D_0.036/DNS_Box_X=3D_0.036_400000.vtu\n",
            "loading ic mesh :  ./data/Box_X=3D_0.036/DNS_Box_X=3D_0.036_400000.vtu\n",
            "compiling...\n",
            " 10%|███▉                                   | 999/10000 [01:23<03:28, 43.17it/s]Epoch: 1000/10000 --> total loss: 389.70208740, error: 0.93139160, best error 100000.00000000\n",
            " 20%|███████▌                              | 1999/10000 [01:46<02:19, 57.50it/s]Epoch: 2000/10000 --> total loss: 382.48706055, error: 0.92817163, best error 100000.00000000\n",
            " 30%|███████████▎                          | 2993/10000 [02:03<02:10, 53.71it/s]Epoch: 3000/10000 --> total loss: 338.81863403, error: 0.92797434, best error 100000.00000000\n",
            " 40%|███████████████▏                      | 3995/10000 [02:21<01:26, 69.80it/s]Epoch: 4000/10000 --> total loss: 299.56887817, error: 0.95019072, best error 100000.00000000\n",
            " 50%|██████████████████▉                   | 4998/10000 [02:40<02:29, 33.51it/s]Epoch: 5000/10000 --> total loss: 112.85135651, error: 1.17679489, best error 100000.00000000\n",
            " 60%|██████████████████████▊               | 5993/10000 [03:05<01:03, 63.35it/s]Epoch: 6000/10000 --> total loss: 86.91046906, error: 1.34903646, best error 100000.00000000\n",
            " 70%|██████████████████████████▌           | 6993/10000 [03:25<00:46, 65.05it/s]Epoch: 7000/10000 --> total loss: 68.53427124, error: 1.60746574, best error 100000.00000000\n",
            " 80%|██████████████████████████████▍       | 7997/10000 [03:43<00:40, 49.70it/s]Epoch: 8000/10000 --> total loss: 57.44765472, error: 1.49308348, best error 100000.00000000\n",
            " 90%|██████████████████████████████████▏   | 8997/10000 [04:04<00:28, 34.93it/s]Epoch: 9000/10000 --> total loss: 47.66162109, error: 1.49930787, best error 100000.00000000\n",
            "100%|█████████████████████████████████████▉| 9996/10000 [04:29<00:00, 25.70it/s]Epoch: 10000/10000 --> total loss: 40.87341309, error: 1.44100702, best error 100000.00000000\n",
            "100%|█████████████████████████████████████| 10000/10000 [04:30<00:00, 37.01it/s]\n",
            "Runtime --> total: 214.24sec (21.43ms/iter.)\n"
          ]
        }
      ],
      "source": [
        "! rm -rf *0.npy\n",
        "! XLA_PYTHON_CLIENT_PREALLOCATE=false CUDA_VISIBLE_DEVICES=5 TF_CPP_MIN_LOG_LEVEL=0 python navier_stokes4d.py \\\n",
        "--model=spinn --equation=navier_stokes4d --nc=32 \\\n",
        "--nc_test=20 --seed=111 --lr=1e-3 --epochs=10000 \\\n",
        "--mlp=modified_mlp --n_layers=5 --features=64 \\\n",
        "--r=128 --out_dim=3 --lbda_c=100 \\\n",
        "--lbda_ic=10 --step_idx=0 --log_iter=1000 --plot_iter=5000"
      ]
    }
  ],
  "metadata": {
    "accelerator": "GPU",
    "colab": {
      "gpuType": "T4",
      "provenance": []
    },
    "kernelspec": {
      "display_name": "Python 3",
      "name": "python3"
    },
    "language_info": {
      "codemirror_mode": {
        "name": "ipython",
        "version": 3
      },
      "file_extension": ".py",
      "mimetype": "text/x-python",
      "name": "python",
      "nbconvert_exporter": "python",
      "pygments_lexer": "ipython3",
      "version": "3.10.13"
    }
  },
  "nbformat": 4,
  "nbformat_minor": 0
}
